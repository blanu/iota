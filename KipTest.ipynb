{
 "cells": [
  {
   "cell_type": "code",
   "id": "initial_id",
   "metadata": {
    "collapsed": true,
    "ExecuteTime": {
     "end_time": "2024-11-27T01:45:32.582917Z",
     "start_time": "2024-11-27T01:45:32.568980Z"
    }
   },
   "source": [
    "import storage\n",
    "from storage import *\n",
    "\n",
    "a = Integer(0)\n",
    "b = Integer(1)\n",
    "c = a.add(b)\n",
    "print(c)\n"
   ],
   "outputs": [
    {
     "name": "stdout",
     "output_type": "stream",
     "text": [
      "None\n"
     ]
    }
   ],
   "execution_count": 71
  },
  {
   "metadata": {
    "ExecuteTime": {
     "end_time": "2024-11-26T17:49:21.591599Z",
     "start_time": "2024-11-26T17:49:21.589665Z"
    }
   },
   "cell_type": "code",
   "source": "",
   "id": "f1ae79688b7f8a87",
   "outputs": [],
   "execution_count": null
  },
  {
   "metadata": {
    "ExecuteTime": {
     "end_time": "2024-11-26T17:49:31.624017Z",
     "start_time": "2024-11-26T17:49:31.620582Z"
    }
   },
   "cell_type": "code",
   "source": "",
   "id": "8b12a1562d085e41",
   "outputs": [],
   "execution_count": null
  },
  {
   "metadata": {
    "ExecuteTime": {
     "end_time": "2024-11-26T17:20:09.348348Z",
     "start_time": "2024-11-26T17:19:24.602724Z"
    }
   },
   "cell_type": "code",
   "source": "",
   "id": "a7f592feac32eec8",
   "outputs": [],
   "execution_count": null
  },
  {
   "metadata": {
    "ExecuteTime": {
     "end_time": "2024-11-26T17:20:09.349377Z",
     "start_time": "2024-11-26T17:19:31.680769Z"
    }
   },
   "cell_type": "code",
   "source": "",
   "id": "8878164ce13db3b3",
   "outputs": [],
   "execution_count": null
  },
  {
   "metadata": {},
   "cell_type": "code",
   "outputs": [],
   "execution_count": null,
   "source": "",
   "id": "15f100a083150eb9"
  }
 ],
 "metadata": {
  "kernelspec": {
   "display_name": "Python 3",
   "language": "python",
   "name": "python3"
  },
  "language_info": {
   "codemirror_mode": {
    "name": "ipython",
    "version": 2
   },
   "file_extension": ".py",
   "mimetype": "text/x-python",
   "name": "python",
   "nbconvert_exporter": "python",
   "pygments_lexer": "ipython2",
   "version": "2.7.6"
  }
 },
 "nbformat": 4,
 "nbformat_minor": 5
}
